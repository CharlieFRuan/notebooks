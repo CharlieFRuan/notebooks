{
  "cells": [
    {
      "cell_type": "markdown",
      "metadata": {
        "id": "7aZkVRjX6hun"
      },
      "source": [
        "# Demo: WizardLM, WizardMath, and WizardCoder with MLC LLM\n",
        "\n",
        "WizardLM recently released their WizardMath model, which has achieved impressive results on various benchmarks. We take this opportunity to demonstrate MLC LLM's support for the Wizard model family: https://github.com/nlpxucan/WizardLM.\n",
        "\n",
        "Specifically, we will look at:\n",
        "- **[WizardLM](https://github.com/nlpxucan/WizardLM/tree/main/WizardLM): an instruction-following LLM using Evol-Instruct**\n",
        "- **[WizardCoder](https://github.com/nlpxucan/WizardLM/tree/main/WizardCoder): a code LLM with Evol-Instruct**\n",
        "- **[WizardMath](https://github.com/nlpxucan/WizardLM/tree/main/WizardMath): a mathematical reasoning LLM via reinforced Evol-Instruct**\n",
        "\n",
        "The task-specific Wizard models resonate with one of the visions of MLC LLM: deploying LLMs natively, each acting as **a personal AI assistant for a specific realm of tasks**.\n",
        "\n",
        "In this notebook, we walk over the steps of using MLC LLM to run these pre-compiled Wizard models! We have uploaded various versions of the pre-compiled and quantized Wizard models here: https://huggingface.co/mlc-ai.\n",
        "\n",
        "Learn more about MLC LLM here: https://mlc.ai/mlc-llm/docs."
      ]
    },
    {
      "cell_type": "markdown",
      "metadata": {
        "id": "rgD6BbKu_Dm0"
      },
      "source": [
        "Click the button below to get started!\n",
        "\n",
        "<a target=\"_blank\" href=\"https://colab.research.google.com/github/mlc-ai/notebooks/blob/main/mlc-llm/models/demo_WizardLM_Math_Coder.ipynb\">\n",
        "  <img src=\"https://colab.research.google.com/assets/colab-badge.svg\" alt=\"Open In Colab\"/>\n",
        "</a>"
      ]
    },
    {
      "cell_type": "markdown",
      "metadata": {
        "id": "rKvxnQF-9y8T"
      },
      "source": [
        "## Step 0. Install MLC LLM"
      ]
    },
    {
      "cell_type": "markdown",
      "metadata": {
        "id": "cEfutAOe-48p"
      },
      "source": [
        "We will start from setting up the environment. First, let us create a new Conda environment, in which we will run the rest of the notebook.\n",
        "\n",
        "```\n",
        "conda create --name mlc-llm python=3.10\n",
        "conda activate mlc-llm\n",
        "```"
      ]
    },
    {
      "cell_type": "markdown",
      "metadata": {
        "id": "r3N6HKk8_Bbl"
      },
      "source": [
        "**Google Colab**\n",
        "\n",
        "- If you are running this in a Google Colab notebook, you would not need to create a conda environment.\n",
        "- However, be sure to change your runtime to GPU by going to `Runtime` > `Change runtime type` and setting the Hardware accelerator to be \"GPU\"."
      ]
    },
    {
      "cell_type": "markdown",
      "metadata": {
        "id": "al4bIcFv_HtH"
      },
      "source": [
        "If you are using CUDA, you can run the following command to confirm that CUDA is set up correctly, and check the driver version number as well as what GPUs are currently available for use.\n",
        "\n"
      ]
    },
    {
      "cell_type": "code",
      "execution_count": null,
      "metadata": {
        "id": "8wEfFZ8f6vT3"
      },
      "outputs": [],
      "source": [
        "!nvidia-smi"
      ]
    },
    {
      "cell_type": "markdown",
      "metadata": {
        "id": "UJnujwMT_RVZ"
      },
      "source": [
        "Next, let's download the MLC-AI and MLC-Chat nightly build packages. If you are running in a Colab environment, then you can just run the following command. Otherwise, go to https://mlc.ai/package/ and replace the command below with the one that is appropriate for your hardware and OS."
      ]
    },
    {
      "cell_type": "markdown",
      "metadata": {
        "id": "s6wHMUtk_M6A"
      },
      "source": [
        "**Google Colab**: If you are using Colab, you may see the red warnings such as \"You must restart the runtime in order to use newly installed versions.\" For our purpose, we can disregard them, the notebook will still run correctly."
      ]
    },
    {
      "cell_type": "code",
      "execution_count": null,
      "metadata": {
        "id": "4TGX5fqYjyID"
      },
      "outputs": [],
      "source": [
        "!pip install --pre --force-reinstall mlc-ai-nightly-cu118 mlc-chat-nightly-cu118 -f https://mlc.ai/wheels"
      ]
    },
    {
      "cell_type": "markdown",
      "metadata": {
        "id": "HWMMGRlg_nxj"
      },
      "source": [
        "Let's confirm we have installed the packages successfully!"
      ]
    },
    {
      "cell_type": "code",
      "execution_count": null,
      "metadata": {
        "id": "4R-150I6_q6N"
      },
      "outputs": [],
      "source": [
        "!python -c \"import tvm; print('tvm installed properly!')\"\n",
        "!python -c \"import mlc_chat; print('mlc_chat installed properly!')\""
      ]
    },
    {
      "cell_type": "markdown",
      "metadata": {
        "id": "GbYg_EnT_4Qf"
      },
      "source": [
        "## Step 1. Download Prebuilt Models and Library"
      ]
    },
    {
      "cell_type": "markdown",
      "metadata": {
        "id": "RdGuw9vB_8Qp"
      },
      "source": [
        "These commands will download many prebuilt libraries (e.g. `.so` files) as well as the precompiled Wizard models. This may take a while. If in **Google Colab**, you can verify that the files are being downloaded by clicking on the folder icon on the left."
      ]
    },
    {
      "cell_type": "markdown",
      "metadata": {
        "id": "29N0JS4NAOtx"
      },
      "source": [
        "Note: If you are NOT running in **Google Colab** you may need to run this line `!conda install git git-lfs` to install `git` and `git-lfs` before running the following cell."
      ]
    },
    {
      "cell_type": "code",
      "execution_count": null,
      "metadata": {
        "id": "RLU17ZZmjzPz"
      },
      "outputs": [],
      "source": [
        "!git lfs install"
      ]
    },
    {
      "cell_type": "code",
      "execution_count": null,
      "metadata": {
        "id": "oN6syhH7j2zi"
      },
      "outputs": [],
      "source": [
        "!mkdir -p dist/prebuilt\n",
        "!git clone https://github.com/mlc-ai/binary-mlc-llm-libs.git dist/prebuilt/lib"
      ]
    },
    {
      "cell_type": "code",
      "execution_count": null,
      "metadata": {
        "id": "EzU8dFr9j6VD"
      },
      "outputs": [],
      "source": [
        "!cd dist/prebuilt && git clone https://huggingface.co/mlc-ai/mlc-chat-WizardCoder-15B-V1.0-q4f16_1"
      ]
    },
    {
      "cell_type": "code",
      "execution_count": null,
      "metadata": {
        "id": "TEQwp2cMj90p"
      },
      "outputs": [],
      "source": [
        "!cd dist/prebuilt && git clone https://huggingface.co/mlc-ai/mlc-chat-WizardLM-13B-V1.2-q4f16_1"
      ]
    },
    {
      "cell_type": "code",
      "execution_count": null,
      "metadata": {
        "colab": {
          "base_uri": "https://localhost:8080/"
        },
        "id": "vZvzVrngoREj",
        "outputId": "17c88f08-4590-43e8-bd92-873491906eaa"
      },
      "outputs": [
        {
          "name": "stdout",
          "output_type": "stream",
          "text": [
            "Cloning into 'mlc-chat-WizardMath-13B-V1.0-q4f16_1'...\n",
            "remote: Enumerating objects: 173, done.\u001b[K\n",
            "remote: Counting objects: 100% (173/173), done.\u001b[K\n",
            "remote: Compressing objects: 100% (171/171), done.\u001b[K\n",
            "remote: Total 173 (delta 0), reused 170 (delta 0), pack-reused 0\u001b[K\n",
            "Receiving objects: 100% (173/173), 503.96 KiB | 2.95 MiB/s, done.\n",
            "Filtering content: 100% (163/163), 6.82 GiB | 42.23 MiB/s, done.\n"
          ]
        }
      ],
      "source": [
        "!cd dist/prebuilt && git clone https://huggingface.co/mlc-ai/mlc-chat-WizardMath-13B-V1.0-q4f16_1"
      ]
    },
    {
      "cell_type": "code",
      "execution_count": null,
      "metadata": {
        "id": "rK4yVJdEDvQr"
      },
      "outputs": [],
      "source": [
        "# In Colab, for some reason we need to restart runtime by running `exit()`.\n",
        "# Simply run `exit()`, then run the subsequent cells after runtime restarts.\n",
        "exit()"
      ]
    },
    {
      "cell_type": "markdown",
      "metadata": {
        "id": "PK2DVVIk8Ryv"
      },
      "source": [
        "## Step 2. Let's Chat with WizardLM!"
      ]
    },
    {
      "cell_type": "code",
      "execution_count": null,
      "metadata": {
        "colab": {
          "base_uri": "https://localhost:8080/"
        },
        "id": "ZX4X9mGTnKSf",
        "outputId": "2cb3b10e-c6a1-43a9-cc5b-722821515895"
      },
      "outputs": [
        {
          "name": "stdout",
          "output_type": "stream",
          "text": [
            "Using model folder: /content/dist/prebuilt/mlc-chat-WizardLM-13B-V1.2-q4f16_1\n",
            "Using mlc chat config: /content/dist/prebuilt/mlc-chat-WizardLM-13B-V1.2-q4f16_1/mlc-chat-config.json\n",
            "Using library model: /content/dist/prebuilt/lib/Llama-2-13b-chat-hf-q4f16_1-cuda.so\n",
            "\n"
          ]
        }
      ],
      "source": [
        "from mlc_chat import ChatModule\n",
        "from mlc_chat.callback import StreamToStdout\n",
        "\n",
        "cm = ChatModule(model=\"WizardLM-13B-V1.2-q4f16_1\", device=\"cuda\")"
      ]
    },
    {
      "cell_type": "code",
      "execution_count": null,
      "metadata": {
        "colab": {
          "base_uri": "https://localhost:8080/"
        },
        "id": "s6YdYe5AnVzN",
        "outputId": "e620e4b5-61b9-4602-a75b-d438a81c1b3a"
      },
      "outputs": [
        {
          "name": "stdout",
          "output_type": "stream",
          "text": [
            "1. New York City\n",
            "2. Los Angeles\n",
            "3. Chicago\n"
          ]
        }
      ],
      "source": [
        "output = cm.generate(\n",
        "    prompt=\"Give me three American cities names\",\n",
        "    progress_callback=StreamToStdout(callback_interval=2)\n",
        ")"
      ]
    },
    {
      "cell_type": "code",
      "execution_count": null,
      "metadata": {
        "colab": {
          "base_uri": "https://localhost:8080/"
        },
        "id": "rGwiIrKonehd",
        "outputId": "d836f5d1-4b50-4cea-9da1-a11b662954c0"
      },
      "outputs": [
        {
          "name": "stdout",
          "output_type": "stream",
          "text": [
            "4. Las Vegas\n",
            "5. Miami\n"
          ]
        }
      ],
      "source": [
        "output = cm.generate(\n",
        "    prompt=\"Give me two more\",\n",
        "    progress_callback=StreamToStdout(callback_interval=2)\n",
        ")"
      ]
    },
    {
      "cell_type": "code",
      "execution_count": null,
      "metadata": {
        "id": "WUdq7Z-qpABZ"
      },
      "outputs": [],
      "source": [
        "# In Colab, for some reason we need to restart runtime by running `exit()`.\n",
        "# Simply run `exit()`, then run the subsequent cells after runtime restarts.\n",
        "exit()"
      ]
    },
    {
      "cell_type": "markdown",
      "metadata": {
        "id": "XuHZgZhY8YoB"
      },
      "source": [
        "## Step 3. Let's Solve a Math Problem with WizardMath!"
      ]
    },
    {
      "cell_type": "code",
      "execution_count": null,
      "metadata": {
        "colab": {
          "base_uri": "https://localhost:8080/"
        },
        "id": "WxnBldtMqn2Y",
        "outputId": "a5f471ee-35d2-420f-d20b-00eda54822d0"
      },
      "outputs": [
        {
          "name": "stdout",
          "output_type": "stream",
          "text": [
            "Using model folder: /content/dist/prebuilt/mlc-chat-WizardMath-13B-V1.0-q4f16_1\n",
            "Using mlc chat config: /content/dist/prebuilt/mlc-chat-WizardMath-13B-V1.0-q4f16_1/mlc-chat-config.json\n",
            "Using library model: /content/dist/prebuilt/lib/WizardMath-13B-V1.0-q4f16_1-cuda.so\n",
            "\n"
          ]
        }
      ],
      "source": [
        "from mlc_chat import ChatModule\n",
        "from mlc_chat.callback import StreamToStdout\n",
        "\n",
        "cm = ChatModule(model=\"WizardMath-13B-V1.0-q4f16_1\", device=\"cuda\")"
      ]
    },
    {
      "cell_type": "code",
      "execution_count": null,
      "metadata": {
        "colab": {
          "base_uri": "https://localhost:8080/"
        },
        "id": "ufta9VbyqtlN",
        "outputId": "196f3ca1-2837-4b48-b52a-b012b840d3a4"
      },
      "outputs": [
        {
          "name": "stdout",
          "output_type": "stream",
          "text": [
            "\n",
            "Step 1: Define the variables.\n",
            "Let C represent the number of chickens and R represent the number of rabbits.\n",
            "\n",
            "Step 2: Write the equations based on the given information.\n",
            "We know that the total number of legs is 14, so we can write the equation:\n",
            "2C + 4R = 14\n",
            "\n",
            "We also know that there are 5 animals in total, so we can write the equation:\n",
            "C + R = 5\n",
            "\n",
            "Step 3: Solve the system of equations.\n",
            "We can solve this system of equations using the substitution method. First, we'll solve the second equation for R:\n",
            "R = 5 - C\n",
            "\n",
            "Now, we'll substitute this expression for R into the first equation:\n",
            "2C + 4(5 - C) = 14\n",
            "\n",
            "Step 4: Simplify and solve for C.\n",
            "2C + 20 - 4C = 14\n",
            "-2C = -6\n",
            "C = 3\n",
            "\n",
            "Step 5: Find the number of rabbits.\n",
            "Now that we know there are 3 chickens, we can find the number of rabbits using the equation R = 5 - C:\n",
            "R = 5 - 3\n",
            "R = 2\n",
            "\n",
            "Step 6: Provide the final answer.\n",
            "There are 3 chickens and 2 rabbits, so the answer is:\n",
            "C + R = 3 + 2 = 5\n",
            "There are 5 animals in total, and since we found that there are 3 chickens, there must be 2 rabbits.\n",
            "\n",
            "The answer is: 3.\n"
          ]
        }
      ],
      "source": [
        "prompt=(\n",
        "    \"A chicken has 2 legs, and a rabbit has 4 legs. Given that there are 5 animals in total, \"\n",
        "    \"and 14 legs in total. How many chicken are there? Show your steps.\"\n",
        ")\n",
        "output = cm.generate(\n",
        "    prompt=prompt,\n",
        "    progress_callback=StreamToStdout(callback_interval=2)\n",
        ")"
      ]
    },
    {
      "cell_type": "code",
      "execution_count": null,
      "metadata": {
        "id": "tsFRIhwKrMP1"
      },
      "outputs": [],
      "source": [
        "# In Colab, for some reason we need to restart runtime by running `exit()`.\n",
        "# Simply run `exit()`, then run the subsequent cells after runtime restarts.\n",
        "exit()"
      ]
    },
    {
      "cell_type": "markdown",
      "metadata": {
        "id": "IFjaA-yC8iH5"
      },
      "source": [
        "## Step 4. Let's Solve a Leetcode with WizardCoder!\n",
        "\n",
        "WizardMath tends to give Markdown format output, which is really cool! We use `IPython.display` to display the output as Markdown!"
      ]
    },
    {
      "cell_type": "code",
      "execution_count": null,
      "metadata": {
        "colab": {
          "base_uri": "https://localhost:8080/"
        },
        "id": "-LqAcTW5214y",
        "outputId": "365896be-4e62-426f-93f9-a892d0b869e1"
      },
      "outputs": [
        {
          "name": "stdout",
          "output_type": "stream",
          "text": [
            "Using model folder: /content/dist/prebuilt/mlc-chat-WizardCoder-15B-V1.0-q4f16_1\n",
            "Using mlc chat config: /content/dist/prebuilt/mlc-chat-WizardCoder-15B-V1.0-q4f16_1/mlc-chat-config.json\n",
            "Using library model: /content/dist/prebuilt/lib/WizardCoder-15B-V1.0-q4f16_1-cuda.so\n",
            "\n"
          ]
        }
      ],
      "source": [
        "from mlc_chat import ChatModule\n",
        "from mlc_chat.callback import StreamToStdout\n",
        "from IPython.display import display, Markdown, Latex\n",
        "\n",
        "cm = ChatModule(model=\"WizardCoder-15B-V1.0-q4f16_1\", device=\"cuda\")"
      ]
    },
    {
      "cell_type": "code",
      "execution_count": null,
      "metadata": {
        "colab": {
          "base_uri": "https://localhost:8080/"
        },
        "id": "neZIfq8ntFxo",
        "outputId": "b48d681d-2935-454b-b988-6429ee65e884"
      },
      "outputs": [
        {
          "name": "stdout",
          "output_type": "stream",
          "text": [
            "A palindrome is a number that reads the same backward as forward. For example, 12321 is a palindrome, while 12345 is not.\n",
            "\n",
            "To determine whether a number is a palindrome, we can convert it to a string and compare the string with its reverse. If they are the same, then the number is a palindrome. Here's a Python program that does this:\n",
            "\n",
            "```python\n",
            "num = int(input(\"Enter a number: \"))\n",
            "\n",
            "# Convert the number to a string\n",
            "num_str = str(num)\n",
            "\n",
            "# Compare the string with its reverse\n",
            "if num_str == num_str[::-1]:\n",
            "    print(num, \"is a palindrome\")\n",
            "else:\n",
            "    print(num, \"is not a palindrome\")\n",
            "```\n",
            "\n",
            "In this program, we first prompt the user to enter a number. We then convert the number to a string using the `str()` function. We then compare the string with its reverse using slicing notation (`[::-1]`). If they are the same, then the number is a palindrome, and we print a message saying so. Otherwise, we print a message saying that the number is not a palindrome.\n"
          ]
        }
      ],
      "source": [
        "prompt= \"Write a Python program that determines whether a number is a palindrome.\"\n",
        "\n",
        "output = cm.generate(prompt=prompt)\n",
        "print(output)"
      ]
    },
    {
      "cell_type": "code",
      "execution_count": null,
      "metadata": {
        "colab": {
          "base_uri": "https://localhost:8080/",
          "height": 326
        },
        "id": "fCncNUcHI4WA",
        "outputId": "24addb62-1784-42b1-a77e-5d5d4f279c14"
      },
      "outputs": [
        {
          "data": {
            "text/markdown": [
              "A palindrome is a number that reads the same backward as forward. For example, 12321 is a palindrome, while 12345 is not.\n",
              "\n",
              "To determine whether a number is a palindrome, we can convert it to a string and compare the string with its reverse. If they are the same, then the number is a palindrome. Here's a Python program that does this:\n",
              "\n",
              "```python\n",
              "num = int(input(\"Enter a number: \"))\n",
              "\n",
              "# Convert the number to a string\n",
              "num_str = str(num)\n",
              "\n",
              "# Compare the string with its reverse\n",
              "if num_str == num_str[::-1]:\n",
              "    print(num, \"is a palindrome\")\n",
              "else:\n",
              "    print(num, \"is not a palindrome\")\n",
              "```\n",
              "\n",
              "In this program, we first prompt the user to enter a number. We then convert the number to a string using the `str()` function. We then compare the string with its reverse using slicing notation (`[::-1]`). If they are the same, then the number is a palindrome, and we print a message saying so. Otherwise, we print a message saying that the number is not a palindrome."
            ],
            "text/plain": [
              "<IPython.core.display.Markdown object>"
            ]
          },
          "metadata": {},
          "output_type": "display_data"
        }
      ],
      "source": [
        "display(Markdown(output))"
      ]
    },
    {
      "cell_type": "code",
      "execution_count": null,
      "metadata": {
        "colab": {
          "base_uri": "https://localhost:8080/"
        },
        "id": "r3Mny3Sa-xiN",
        "outputId": "e6c817bd-f12c-4a1b-a3ef-e6a6d4c3d39c"
      },
      "outputs": [
        {
          "name": "stdout",
          "output_type": "stream",
          "text": [
            "Here's the equivalent Java code:\n",
            "\n",
            "```java\n",
            "import java.util.Scanner;\n",
            "\n",
            "public class Palindrome {\n",
            "    public static void main(String[] args) {\n",
            "        Scanner input = new Scanner(System.in);\n",
            "        \n",
            "        System.out.print(\"Enter a number: \");\n",
            "        int num = input.nextInt();\n",
            "        \n",
            "        // Convert the number to a string\n",
            "        String numStr = String.valueOf(num);\n",
            "        \n",
            "        // Compare the string with its reverse\n",
            "        if (numStr.equals(new StringBuilder(numStr).reverse().toString())) {\n",
            "            System.out.println(num + \" is a palindrome\");\n",
            "        } else {\n",
            "            System.out.println(num + \" is not a palindrome\");\n",
            "        }\n",
            "    }\n",
            "}\n",
            "```\n",
            "\n",
            "In this code, we first prompt the user to enter a number using `System.in`. We then read the integer value from the input and store it in the `num` variable.\n",
            "\n",
            "We then convert the number to a string using the `String.valueOf()` method. We then compare the string with its reverse using the `StringBuilder.reverse()` method and the `String.equals()` method. If they are the same, then the number is a palindrome, and we print a message saying so. Otherwise, we print a message saying that the number is not a palindrome.\n"
          ]
        }
      ],
      "source": [
        "output = cm.generate(prompt=\"Write this in Java instead.\")\n",
        "print(output)"
      ]
    },
    {
      "cell_type": "code",
      "execution_count": null,
      "metadata": {
        "colab": {
          "base_uri": "https://localhost:8080/",
          "height": 482
        },
        "id": "PWnD4C6dI6-X",
        "outputId": "be807d08-571f-4d9c-b6ac-128fe652b9c1"
      },
      "outputs": [
        {
          "data": {
            "text/markdown": [
              "Here's the equivalent Java code:\n",
              "\n",
              "```java\n",
              "import java.util.Scanner;\n",
              "\n",
              "public class Palindrome {\n",
              "    public static void main(String[] args) {\n",
              "        Scanner input = new Scanner(System.in);\n",
              "        \n",
              "        System.out.print(\"Enter a number: \");\n",
              "        int num = input.nextInt();\n",
              "        \n",
              "        // Convert the number to a string\n",
              "        String numStr = String.valueOf(num);\n",
              "        \n",
              "        // Compare the string with its reverse\n",
              "        if (numStr.equals(new StringBuilder(numStr).reverse().toString())) {\n",
              "            System.out.println(num + \" is a palindrome\");\n",
              "        } else {\n",
              "            System.out.println(num + \" is not a palindrome\");\n",
              "        }\n",
              "    }\n",
              "}\n",
              "```\n",
              "\n",
              "In this code, we first prompt the user to enter a number using `System.in`. We then read the integer value from the input and store it in the `num` variable.\n",
              "\n",
              "We then convert the number to a string using the `String.valueOf()` method. We then compare the string with its reverse using the `StringBuilder.reverse()` method and the `String.equals()` method. If they are the same, then the number is a palindrome, and we print a message saying so. Otherwise, we print a message saying that the number is not a palindrome."
            ],
            "text/plain": [
              "<IPython.core.display.Markdown object>"
            ]
          },
          "metadata": {},
          "output_type": "display_data"
        }
      ],
      "source": [
        "display(Markdown(output))"
      ]
    }
  ],
  "metadata": {
    "accelerator": "GPU",
    "colab": {
      "gpuType": "T4",
      "provenance": []
    },
    "kernelspec": {
      "display_name": "Python 3",
      "name": "python3"
    },
    "language_info": {
      "name": "python"
    }
  },
  "nbformat": 4,
  "nbformat_minor": 0
}
